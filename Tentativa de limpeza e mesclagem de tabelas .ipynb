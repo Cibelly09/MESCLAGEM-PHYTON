{
 "cells": [
  {
   "cell_type": "code",
   "execution_count": 3,
   "id": "e6bcd87f-8353-4363-8dee-2f85bd6c4688",
   "metadata": {},
   "outputs": [],
   "source": [
    "import os\n",
    "import pandas as pd\n",
    "from thefuzz import fuzz, process"
   ]
  },
  {
   "cell_type": "code",
   "execution_count": 5,
   "id": "20c43b5e-5afa-453b-a0cc-e5c17d416968",
   "metadata": {},
   "outputs": [],
   "source": [
    "diretorio = r'C:/Users/cibelly.souza/Desktop/ANÁLISES PRICING/ESTUDOS/PROMO'\n",
    "os.makedirs(diretorio, exist_ok=True)"
   ]
  },
  {
   "cell_type": "code",
   "execution_count": 7,
   "id": "bff6009c-e2b4-455e-b451-78d622e280c6",
   "metadata": {},
   "outputs": [],
   "source": [
    "#Diretório da base infomarket\n",
    "diretorio = r'C:/Users/cibelly.souza/Desktop/ANÁLISES PRICING/ESTUDOS/PROMO'\n",
    "arquivo = os.path.join(diretorio, 'base_infomarket_2025_05_12.csv')"
   ]
  },
  {
   "cell_type": "code",
   "execution_count": 9,
   "id": "7765c669-0526-4f6c-b81a-cad45daaa371",
   "metadata": {},
   "outputs": [
    {
     "name": "stdout",
     "output_type": "stream",
     "text": [
      "['.ipynb_checkpoints', 'Acordos_Comerciais-16036-13-05-2025-10_18.csv', 'base_infomarket_2025_05_12.csv', 'Cadastro.csv', 'tabela_unificada.csv', 'Tentativa de limpeza e mesclagem de tabelas .ipynb']\n"
     ]
    }
   ],
   "source": [
    "print(os.listdir(diretorio))"
   ]
  },
  {
   "cell_type": "code",
   "execution_count": 11,
   "id": "e423f995-5e25-40e0-b1e1-1d181d051880",
   "metadata": {},
   "outputs": [],
   "source": [
    "# Carregar as tabelas\n",
    "tabela1 = pd.read_csv(arquivo, sep=None, engine='python', encoding='latin1')"
   ]
  },
  {
   "cell_type": "code",
   "execution_count": 13,
   "id": "53276d23-3d37-491b-8d98-2754ba9e180e",
   "metadata": {},
   "outputs": [],
   "source": [
    "tabela2 = pd.read_csv(os.path.join(diretorio,'Acordos_Comerciais-16036-13-05-2025-10_18.csv'), delimiter=';', encoding='latin1')"
   ]
  },
  {
   "cell_type": "code",
   "execution_count": 15,
   "id": "bb68b96f-d624-4dbc-a48c-662f34db528d",
   "metadata": {},
   "outputs": [],
   "source": [
    "tabela3 = pd.read_csv(os.path.join(diretorio,'Cadastro.csv'), delimiter=';', encoding='latin1')"
   ]
  },
  {
   "cell_type": "code",
   "execution_count": 17,
   "id": "d1e25cff-9ee4-459a-a038-31f69a7ab27a",
   "metadata": {},
   "outputs": [
    {
     "name": "stdout",
     "output_type": "stream",
     "text": [
      "                 leaflet_id            network           segment  \\\n",
      "0  6814c03fbe2e92604a52f154  BRASIL ATACADISTA  VAREJO ALIMENTAR   \n",
      "1  6814c03fbe2e92604a52f154  BRASIL ATACADISTA  VAREJO ALIMENTAR   \n",
      "2  6814c03fbe2e92604a52f154  BRASIL ATACADISTA  VAREJO ALIMENTAR   \n",
      "3  6814c03fbe2e92604a52f154  BRASIL ATACADISTA  VAREJO ALIMENTAR   \n",
      "4  6814c03fbe2e92604a52f154  BRASIL ATACADISTA  VAREJO ALIMENTAR   \n",
      "\n",
      "            state            city leaflet_code  leaflet_name leaflet_type  \\\n",
      "0  Santa Catarina        Blumenau       52f154  ADEGA BRASIL  ABASTECEDOR   \n",
      "1  Santa Catarina  FlorianÃ³polis       52f154  ADEGA BRASIL  ABASTECEDOR   \n",
      "2  Santa Catarina  FlorianÃ³polis       52f154  ADEGA BRASIL  ABASTECEDOR   \n",
      "3  Santa Catarina  FlorianÃ³polis       52f154  ADEGA BRASIL  ABASTECEDOR   \n",
      "4  Santa Catarina  FlorianÃ³polis       52f154  ADEGA BRASIL  ABASTECEDOR   \n",
      "\n",
      "   leaflet_number_of_pages leaflet_last_images_upload  ... item_unit_measure  \\\n",
      "0                        1   2025-05-02T12:55:58.009Z  ...                ML   \n",
      "1                        1   2025-05-02T12:55:58.009Z  ...                ML   \n",
      "2                        1   2025-05-02T12:55:58.009Z  ...                ML   \n",
      "3                        1   2025-05-02T12:55:58.009Z  ...                ML   \n",
      "4                        1   2025-05-02T12:55:58.009Z  ...                ML   \n",
      "\n",
      "    category        supercategory division   brand     manufacturer  \\\n",
      "0  ESPUMANTE  BEBIDAS ALCOÃLICAS  BEBIDAS  SALTON  VINICOLA SALTON   \n",
      "1  ESPUMANTE  BEBIDAS ALCOÃLICAS  BEBIDAS  SALTON  VINICOLA SALTON   \n",
      "2  ESPUMANTE  BEBIDAS ALCOÃLICAS  BEBIDAS  SALTON  VINICOLA SALTON   \n",
      "3  ESPUMANTE  BEBIDAS ALCOÃLICAS  BEBIDAS  SALTON  VINICOLA SALTON   \n",
      "4  ESPUMANTE  BEBIDAS ALCOÃLICAS  BEBIDAS  SALTON  VINICOLA SALTON   \n",
      "\n",
      "                category_id          supercategory_id  \\\n",
      "0  5693ffd97042985498d90de4  56901e0da6675594d7af3882   \n",
      "1  5693ffd97042985498d90de4  56901e0da6675594d7af3882   \n",
      "2  5693ffd97042985498d90de4  56901e0da6675594d7af3882   \n",
      "3  5693ffd97042985498d90de4  56901e0da6675594d7af3882   \n",
      "4  5693ffd97042985498d90de4  56901e0da6675594d7af3882   \n",
      "\n",
      "                                          images_url channel_name  \n",
      "0  https://app.infomarketpesquisa.com/app/leaflet...    Atacarejo  \n",
      "1  https://app.infomarketpesquisa.com/app/leaflet...    Atacarejo  \n",
      "2  https://app.infomarketpesquisa.com/app/leaflet...    Atacarejo  \n",
      "3  https://app.infomarketpesquisa.com/app/leaflet...    Atacarejo  \n",
      "4  https://app.infomarketpesquisa.com/app/leaflet...    Atacarejo  \n",
      "\n",
      "[5 rows x 36 columns]\n"
     ]
    }
   ],
   "source": [
    "#Verificando a estrutura das tabelas\n",
    "print(tabela1.head())"
   ]
  },
  {
   "cell_type": "code",
   "execution_count": 19,
   "id": "89938196-6be0-4d6d-875f-8a29b2eb0415",
   "metadata": {},
   "outputs": [
    {
     "name": "stdout",
     "output_type": "stream",
     "text": [
      "   SEQCAMPANHA                                           CAMPANHA     MIDIA  \\\n",
      "0        16036  ENCARTE LOKÃO KOMPRÃO 03/05 E 04/05 (TEMA: L...  Encartes   \n",
      "1        16036  ENCARTE LOKÃO KOMPRÃO 03/05 E 04/05 (TEMA: L...  Encartes   \n",
      "2        16036  ENCARTE LOKÃO KOMPRÃO 03/05 E 04/05 (TEMA: L...  Encartes   \n",
      "3        16036  ENCARTE LOKÃO KOMPRÃO 03/05 E 04/05 (TEMA: L...  Encartes   \n",
      "4        16036  ENCARTE LOKÃO KOMPRÃO 03/05 E 04/05 (TEMA: L...  Encartes   \n",
      "\n",
      "       INICIO         FIM  SEQLOJA  SEQOFERTA TIPO_OFERTA  SEQPRODUTO  \\\n",
      "0  2025-05-03  2025-05-04       10     540899      Normal        9218   \n",
      "1  2025-05-03  2025-05-04       10     540900      Normal       11227   \n",
      "2  2025-05-03  2025-05-04       10     540901      Normal       40601   \n",
      "3  2025-05-03  2025-05-04       10     540902   Club Koch       63195   \n",
      "4  2025-05-03  2025-05-04       10     540903      Normal       21836   \n",
      "\n",
      "                                  DESCRICAO  ...  NEGOCIACAO_ESPACO  \\\n",
      "0                 CONTRA FILE BOV ATC VC KG  ...                NaN   \n",
      "1                          COXA SOBR FGO KG  ...                NaN   \n",
      "2   LAVA ROUPA OMO ATIV SC 2.4KG LAVAG PERF  ...                NaN   \n",
      "3  PAPEL HIG BIANCO FD 30M C/40 L+P- NEUTRO  ...                NaN   \n",
      "4             CERV HEINEKEN PILSEN LN 330ML  ...                NaN   \n",
      "\n",
      "   TIPO_CASHBACK  CASHBACK_R$  DESCONTO DE %  QTD. PAGUE  QTD. LEVE  \\\n",
      "0            NaN          NaN            NaN         NaN        NaN   \n",
      "1            NaN          NaN            NaN         NaN        NaN   \n",
      "2            NaN          NaN            NaN         NaN        NaN   \n",
      "3            NaN          NaN            NaN         NaN        NaN   \n",
      "4            NaN          NaN            NaN         NaN        NaN   \n",
      "\n",
      "   COMPRA DE  DESCONTO EM UNIDADES  PRECO_REGULAR    PÃGINA  \n",
      "0        NaN                   NaN          48.49  PÃ¡gina 1  \n",
      "1        NaN                   NaN           8.79  PÃ¡gina 1  \n",
      "2        NaN                   NaN          31.99  PÃ¡gina 1  \n",
      "3        NaN                   NaN          49.90  PÃ¡gina 1  \n",
      "4        NaN                   NaN           6.49  PÃ¡gina 1  \n",
      "\n",
      "[5 rows x 25 columns]\n"
     ]
    }
   ],
   "source": [
    "print(tabela2.head())"
   ]
  },
  {
   "cell_type": "code",
   "execution_count": 21,
   "id": "7289fdb3-b707-4ec4-88a0-90b5ef46cabb",
   "metadata": {},
   "outputs": [
    {
     "name": "stdout",
     "output_type": "stream",
     "text": [
      "   ï»¿EMPRESA  COD_PRODUTO    cidade      negocio COD_BARRAS  COD_FAMILIA  \\\n",
      "0          50        77957  Araquari  2.ATACAREJO        102        75788   \n",
      "1          50        17058  Araquari  2.ATACAREJO        130        12243   \n",
      "2          50         8313  Araquari  2.ATACAREJO        260         5962   \n",
      "3          50        11856  Araquari  2.ATACAREJO        277         8521   \n",
      "4          50        22463  Araquari  2.ATACAREJO        437        16058   \n",
      "\n",
      "                    DSC_PRODUTO      NIVEL1        NIVEL2              NIVEL3  \\\n",
      "0  FAR MILHO DALON MEDIA PC 1KG   MERCEARIA  SECA SALGADA  GRAOS E FARINACEOS   \n",
      "1                     SALSAO UN  PERECIVEIS    HORTIFRUTI            VERDURAS   \n",
      "2            ABOBORA CABOTIA KG  PERECIVEIS    HORTIFRUTI             LEGUMES   \n",
      "3               GALINHA CONG KG  PERECIVEIS       ACOUGUE                 AVE   \n",
      "4      RICOTA LASAROLI S/SAL KG  PERECIVEIS           PAS           RESFRIADO   \n",
      "\n",
      "                   NIVEL4         NIVEL5   NIVEL6       NIVEL7  \n",
      "0              FARINACEOS  FARINHA MILHO     FINA         FINA  \n",
      "1        TEMPEROS FRESCOS         SALSAO   SALSAO      UNIDADE  \n",
      "2                   COMUM        ABOBORA  CABOTIA           KG  \n",
      "3  AUTO SERVICO CONGELADO    TRADICIONAL  INTEIRO      INTEIRO  \n",
      "4                  QUEIJO    TRADICIONAL   RICOTA  TRADICIONAL  \n"
     ]
    }
   ],
   "source": [
    "print(tabela3.head())"
   ]
  },
  {
   "cell_type": "code",
   "execution_count": 23,
   "id": "751eb6a5-5fcd-450d-b17b-8ae54b7dda28",
   "metadata": {},
   "outputs": [
    {
     "name": "stdout",
     "output_type": "stream",
     "text": [
      "36\n"
     ]
    }
   ],
   "source": [
    "print(tabela1.shape[1])"
   ]
  },
  {
   "cell_type": "code",
   "execution_count": 25,
   "id": "81dc43c1-8df8-4436-a8bd-4938df1aad07",
   "metadata": {},
   "outputs": [
    {
     "name": "stdout",
     "output_type": "stream",
     "text": [
      "Index(['leaflet_id', 'network', 'segment', 'state', 'city', 'leaflet_code',\n",
      "       'leaflet_name', 'leaflet_type', 'leaflet_number_of_pages',\n",
      "       'leaflet_last_images_upload', 'leaflet_created', 'leaflet_updated',\n",
      "       'validity_start_date', 'validity_finish_date', 'period',\n",
      "       'item_description', 'ean', 'price', 'minimum_quantity', 'dynamic',\n",
      "       'requires_loyality', 'requires_credit_card', 'wholesale_only',\n",
      "       'price_created', 'price_updated', 'item_measure', 'item_unit_measure',\n",
      "       'category', 'supercategory', 'division', 'brand', 'manufacturer',\n",
      "       'category_id', 'supercategory_id', 'images_url', 'channel_name'],\n",
      "      dtype='object')\n"
     ]
    }
   ],
   "source": [
    "print(tabela1.columns)"
   ]
  },
  {
   "cell_type": "code",
   "execution_count": 27,
   "id": "cf180f87-09de-4ec1-9aac-51f2fdab6b9e",
   "metadata": {},
   "outputs": [],
   "source": [
    "#Reduzindo base Infomarket para apenas o necessário (selecionando apenas as colunas nessa posição)\n",
    "tabela1 = tabela1[['network','city','leaflet_name','leaflet_type','leaflet_number_of_pages','validity_start_date', 'validity_finish_date', 'period',\n",
    "                                'item_description', 'ean', 'price', 'minimum_quantity', 'dynamic','item_measure', 'item_unit_measure','category',\n",
    "                                'supercategory', 'division', 'brand', 'manufacturer','images_url', 'channel_name']].copy()"
   ]
  },
  {
   "cell_type": "code",
   "execution_count": 29,
   "id": "d13282f4-29ea-46b2-afd6-5083c65b6bbc",
   "metadata": {},
   "outputs": [
    {
     "name": "stdout",
     "output_type": "stream",
     "text": [
      "Index(['SEQCAMPANHA', 'CAMPANHA', 'MIDIA', 'INICIO', 'FIM', 'SEQLOJA',\n",
      "       'SEQOFERTA', 'TIPO_OFERTA', 'SEQPRODUTO', 'DESCRICAO', 'PRECO_VAREJO',\n",
      "       'PRECO_ATACADO', 'QUANTIDADE_MINIMA', 'PRECO_FIDELIDADE',\n",
      "       'SEQFORNECEDOR', 'NEGOCIACAO_ESPACO', 'TIPO_CASHBACK', 'CASHBACK_R$',\n",
      "       'DESCONTO DE %', 'QTD. PAGUE', 'QTD. LEVE', 'COMPRA DE',\n",
      "       'DESCONTO EM UNIDADES', 'PRECO_REGULAR', 'PÃGINA'],\n",
      "      dtype='object')\n"
     ]
    }
   ],
   "source": [
    "print(tabela2.columns)"
   ]
  },
  {
   "cell_type": "code",
   "execution_count": 31,
   "id": "ae2ec035-e05d-4624-ae22-2708d492eacb",
   "metadata": {},
   "outputs": [],
   "source": [
    "#Reduzindo base Smarket para apenas o necessário (selecionando apenas as colunas nessa posição)\n",
    "tabela2 = tabela2[['SEQCAMPANHA','CAMPANHA','INICIO', 'FIM', 'SEQLOJA','SEQOFERTA', 'TIPO_OFERTA', 'SEQPRODUTO', 'DESCRICAO', 'PRECO_VAREJO','PRECO_ATACADO',\n",
    "                   'QUANTIDADE_MINIMA','PRECO_FIDELIDADE','TIPO_CASHBACK','CASHBACK_R$','DESCONTO DE %', 'QTD. PAGUE', 'QTD. LEVE', 'COMPRA DE',\n",
    "                   'DESCONTO EM UNIDADES','PRECO_REGULAR', 'PÃGINA']].copy()"
   ]
  },
  {
   "cell_type": "code",
   "execution_count": 33,
   "id": "6dce59ec-5247-412d-8b9a-37286c141769",
   "metadata": {},
   "outputs": [
    {
     "name": "stdout",
     "output_type": "stream",
     "text": [
      "Index(['ï»¿EMPRESA', 'COD_PRODUTO', 'cidade', 'negocio', 'COD_BARRAS',\n",
      "       'COD_FAMILIA', 'DSC_PRODUTO', 'NIVEL1', 'NIVEL2', 'NIVEL3', 'NIVEL4',\n",
      "       'NIVEL5', 'NIVEL6', 'NIVEL7'],\n",
      "      dtype='object')\n"
     ]
    }
   ],
   "source": [
    "print(tabela3.columns)"
   ]
  },
  {
   "cell_type": "code",
   "execution_count": 35,
   "id": "b03e019a-ed3a-401c-8cb9-a672aa65c698",
   "metadata": {},
   "outputs": [
    {
     "name": "stdout",
     "output_type": "stream",
     "text": [
      "Requirement already satisfied: unidecode in c:\\users\\cibelly.souza\\appdata\\local\\anaconda3\\lib\\site-packages (1.2.0)\n"
     ]
    }
   ],
   "source": [
    "#Normalizando as tabelas da info e da smarket (cadastro não pq é mt grande)\n",
    "!pip install unidecode\n",
    "from unidecode import unidecode\n",
    "import pandas as pd\n",
    "tabelas = [tabela1, tabela2]\n",
    "tabelas_normalizadas = [tabela.astype(str).apply(lambda col: col.map(lambda x: unidecode(x).upper()) if col.dtype == 'object' else col) for tabela in tabelas]"
   ]
  },
  {
   "cell_type": "code",
   "execution_count": 37,
   "id": "d3fd3ad0-45aa-4108-84f1-d7d9776f1839",
   "metadata": {},
   "outputs": [],
   "source": [
    "#nomeando novamente \n",
    "tabela1, tabela2 = tabelas_normalizadas"
   ]
  },
  {
   "cell_type": "code",
   "execution_count": 39,
   "id": "223b2987-0531-4d5c-ac97-0b50fee58f7d",
   "metadata": {},
   "outputs": [
    {
     "name": "stdout",
     "output_type": "stream",
     "text": [
      "Tabela 1 - Linhas:35275, Colunas: 22\n",
      "Tabela 2 - Linhas:19372, Colunas: 22\n",
      "Tabela 3 - Linhas:570522, Colunas: 14\n"
     ]
    }
   ],
   "source": [
    "#Verificando \n",
    "print(f\"Tabela 1 - Linhas:{tabela1.shape[0]}, Colunas: {tabela1.shape[1]}\")\n",
    "print(f\"Tabela 2 - Linhas:{tabela2.shape[0]}, Colunas: {tabela2.shape[1]}\")\n",
    "print(f\"Tabela 3 - Linhas:{tabela3.shape[0]}, Colunas: {tabela3.shape[1]}\")"
   ]
  },
  {
   "cell_type": "code",
   "execution_count": 41,
   "id": "1ff40680-5e5c-417b-a2fd-f22bc8fdf03a",
   "metadata": {},
   "outputs": [
    {
     "name": "stdout",
     "output_type": "stream",
     "text": [
      "Index(['SEQCAMPANHA', 'CAMPANHA', 'INICIO', 'FIM', 'SEQLOJA', 'SEQOFERTA',\n",
      "       'TIPO_OFERTA', 'SEQPRODUTO', 'DESCRICAO', 'PRECO_VAREJO',\n",
      "       'PRECO_ATACADO', 'QUANTIDADE_MINIMA', 'PRECO_FIDELIDADE',\n",
      "       'TIPO_CASHBACK', 'CASHBACK_R$', 'DESCONTO DE %', 'QTD. PAGUE',\n",
      "       'QTD. LEVE', 'COMPRA DE', 'DESCONTO EM UNIDADES', 'PRECO_REGULAR',\n",
      "       'PÃGINA'],\n",
      "      dtype='object')\n"
     ]
    }
   ],
   "source": [
    "print(tabela2.columns)"
   ]
  },
  {
   "cell_type": "code",
   "execution_count": 43,
   "id": "ae895fcb-5fae-4f06-b508-25c4ce50f8eb",
   "metadata": {},
   "outputs": [],
   "source": [
    "tabela2.rename(columns={'SEQPRODUTO':'COD_PRODUTO','PÁGINA':'PAGINA','CAMPANHA':'ENCARTE'}, inplace=True)"
   ]
  },
  {
   "cell_type": "code",
   "execution_count": 45,
   "id": "d5b60f22-34d1-473f-accb-300e3a5da1d4",
   "metadata": {},
   "outputs": [],
   "source": [
    "#Removendo valores nulos\n",
    "tabela1.dropna(inplace=True)"
   ]
  },
  {
   "cell_type": "code",
   "execution_count": 47,
   "id": "fa8f41c3-e478-4391-ac97-0fc28cb5910c",
   "metadata": {},
   "outputs": [],
   "source": [
    "tabela2.dropna(inplace=True)"
   ]
  },
  {
   "cell_type": "code",
   "execution_count": 49,
   "id": "7a8c58d3-f1b6-46b1-810b-345758d48745",
   "metadata": {},
   "outputs": [],
   "source": [
    "tabela3.dropna(inplace=True)"
   ]
  },
  {
   "cell_type": "code",
   "execution_count": 51,
   "id": "f4eeee81-7e2f-480e-9b8f-a569d623bfc5",
   "metadata": {},
   "outputs": [],
   "source": [
    "#Removendo espaços em branco\n",
    "tabela1.columns = tabela1.columns.str.strip()"
   ]
  },
  {
   "cell_type": "code",
   "execution_count": 53,
   "id": "0a4a7923-915a-43fd-aa05-63c67c924115",
   "metadata": {},
   "outputs": [],
   "source": [
    "tabela2.columns = tabela2.columns.str.strip()"
   ]
  },
  {
   "cell_type": "code",
   "execution_count": 55,
   "id": "73f17d5e-0daf-4476-86c0-86251f19fd3d",
   "metadata": {},
   "outputs": [],
   "source": [
    "tabela3.columns = tabela3.columns.str.strip()"
   ]
  },
  {
   "cell_type": "code",
   "execution_count": 57,
   "id": "bb26b9e5-a95f-458b-b207-39d6e1b953ec",
   "metadata": {},
   "outputs": [
    {
     "name": "stdout",
     "output_type": "stream",
     "text": [
      "Tabela 1 - Linhas:35275, Colunas: 22\n",
      "Tabela 2 - Linhas:19372, Colunas: 22\n",
      "Tabela 3 - Linhas:570522, Colunas: 14\n"
     ]
    }
   ],
   "source": [
    "#Verificando \n",
    "print(f\"Tabela 1 - Linhas:{tabela1.shape[0]}, Colunas: {tabela1.shape[1]}\")\n",
    "print(f\"Tabela 2 - Linhas:{tabela2.shape[0]}, Colunas: {tabela2.shape[1]}\")\n",
    "print(f\"Tabela 3 - Linhas:{tabela3.shape[0]}, Colunas: {tabela3.shape[1]}\")"
   ]
  },
  {
   "cell_type": "code",
   "execution_count": 59,
   "id": "3127651c-d4d5-4458-822a-eb7b0a1ef6e3",
   "metadata": {},
   "outputs": [
    {
     "name": "stdout",
     "output_type": "stream",
     "text": [
      "Index(['network', 'city', 'leaflet_name', 'leaflet_type',\n",
      "       'leaflet_number_of_pages', 'validity_start_date',\n",
      "       'validity_finish_date', 'period', 'item_description', 'ean', 'price',\n",
      "       'minimum_quantity', 'dynamic', 'item_measure', 'item_unit_measure',\n",
      "       'category', 'supercategory', 'division', 'brand', 'manufacturer',\n",
      "       'images_url', 'channel_name'],\n",
      "      dtype='object')\n"
     ]
    }
   ],
   "source": [
    "print(tabela1.columns)"
   ]
  },
  {
   "cell_type": "code",
   "execution_count": 61,
   "id": "77fc8649-e1ac-432a-843a-d67cf6b48f39",
   "metadata": {},
   "outputs": [],
   "source": [
    "tabela1.rename(columns = {'network':'CONCORRENTE','city':'CIDADE', 'leaflet_name':'ENCARTE', 'leaflet_type':'TIPO','leaflet_number_of_pages':'PAGINA',\n",
    "                       'validity_start_date':'INICIO','validity_finish_date':'FIM', 'period':'PERIODO', 'item_description':'DESCRICAO',\n",
    "                       'ean':'COD_BARRAS','price':'PRECO','minimum_quantity':'QTD_MINIMA', 'dynamic':'DINAMICA', 'item_measure':'TAMANHO',\n",
    "                       'item_unit_measure':'UNIDADE','category':'CATEGORIA', 'supercategory':'SUPERCATEGORIA', 'division':'DIVISAO',\n",
    "                       'brand':'MARCA', 'manufacturer':'FORNECEDOR','images_url':'URL', 'channel_name':'SEGMENTO'}, inplace=True)"
   ]
  },
  {
   "cell_type": "code",
   "execution_count": 63,
   "id": "deb20a0d-83d3-465d-9284-d8e742216d18",
   "metadata": {},
   "outputs": [
    {
     "name": "stdout",
     "output_type": "stream",
     "text": [
      "Index(['CONCORRENTE', 'CIDADE', 'ENCARTE', 'TIPO', 'PAGINA', 'INICIO', 'FIM',\n",
      "       'PERIODO', 'DESCRICAO', 'COD_BARRAS', 'PRECO', 'QTD_MINIMA', 'DINAMICA',\n",
      "       'TAMANHO', 'UNIDADE', 'CATEGORIA', 'SUPERCATEGORIA', 'DIVISAO', 'MARCA',\n",
      "       'FORNECEDOR', 'URL', 'SEGMENTO'],\n",
      "      dtype='object')\n"
     ]
    }
   ],
   "source": [
    "print(tabela1.columns)"
   ]
  },
  {
   "cell_type": "code",
   "execution_count": 73,
   "id": "2672f0de-2a12-498c-9481-4738d71b3d1c",
   "metadata": {},
   "outputs": [],
   "source": [
    "tabela3.rename(columns = {'negocio':'NEGOCIO', 'cidade':'CIDADE','DSC_PRODUTO':'DESCRICAO'}, inplace=True)"
   ]
  },
  {
   "cell_type": "code",
   "execution_count": 75,
   "id": "ed99388d-a0e8-49b3-a30f-f9348dc4fa3a",
   "metadata": {},
   "outputs": [
    {
     "name": "stdout",
     "output_type": "stream",
     "text": [
      "Index(['ï»¿EMPRESA', 'COD_PRODUTO', 'CIDADE', 'NEGOCIO', 'COD_BARRAS',\n",
      "       'COD_FAMILIA', 'DESCRICAO', 'NIVEL1', 'NIVEL2', 'NIVEL3', 'NIVEL4',\n",
      "       'NIVEL5', 'NIVEL6', 'NIVEL7'],\n",
      "      dtype='object')\n"
     ]
    }
   ],
   "source": [
    "print(tabela3.columns)"
   ]
  },
  {
   "cell_type": "code",
   "execution_count": 77,
   "id": "d5bac285-25ee-40f8-94b5-a73befbdcfbe",
   "metadata": {},
   "outputs": [
    {
     "name": "stdout",
     "output_type": "stream",
     "text": [
      "Index(['SEQCAMPANHA', 'ENCARTE', 'INICIO', 'FIM', 'SEQLOJA', 'SEQOFERTA',\n",
      "       'TIPO_OFERTA', 'COD_PRODUTO', 'DESCRICAO', 'PRECO_VAREJO',\n",
      "       'PRECO_ATACADO', 'QUANTIDADE_MINIMA', 'PRECO_FIDELIDADE',\n",
      "       'TIPO_CASHBACK', 'CASHBACK_R$', 'DESCONTO DE %', 'QTD. PAGUE',\n",
      "       'QTD. LEVE', 'COMPRA DE', 'DESCONTO EM UNIDADES', 'PRECO_REGULAR',\n",
      "       'PÃGINA'],\n",
      "      dtype='object')\n"
     ]
    }
   ],
   "source": [
    "print(tabela2.columns)"
   ]
  },
  {
   "cell_type": "code",
   "execution_count": 79,
   "id": "e617db44-8681-45cf-98d7-0c87246384f3",
   "metadata": {},
   "outputs": [],
   "source": [
    "#Removendo espaços,pontos e traços\n",
    "tabela1['DESCRICAO'] = tabela1['DESCRICAO'].astype(str).str.replace(r'[^\\w\\s]','',regex=True)"
   ]
  },
  {
   "cell_type": "code",
   "execution_count": 81,
   "id": "3a6dd886-6000-4fc8-af41-4e1a564dd645",
   "metadata": {},
   "outputs": [],
   "source": [
    "tabela3['DESCRICAO'] = tabela3['DESCRICAO'].astype(str).str.replace(r'[^\\w\\s]','',regex=True)"
   ]
  },
  {
   "cell_type": "code",
   "execution_count": 83,
   "id": "5ec09a54-ce21-4bb3-838a-77c063ec6537",
   "metadata": {},
   "outputs": [
    {
     "name": "stdout",
     "output_type": "stream",
     "text": [
      "10 DESCRICAO coincidem.\n"
     ]
    }
   ],
   "source": [
    "#Verificando se tem correspondencia\n",
    "cod_barras_1 = set(tabela1['DESCRICAO'])\n",
    "cod_barras_3 = set(tabela3['DESCRICAO'])\n",
    "print(len(cod_barras_1 & cod_barras_3), \"DESCRICAO coincidem.\")"
   ]
  },
  {
   "cell_type": "code",
   "execution_count": 85,
   "id": "13e001d2-d492-45f6-93b4-1afb280b9ff1",
   "metadata": {},
   "outputs": [
    {
     "name": "stdout",
     "output_type": "stream",
     "text": [
      "35275 DESCRICAO com espaço na tabela 1\n",
      "570522 DESCRICAO com espaço na tabela 3\n"
     ]
    }
   ],
   "source": [
    "#Verificando se tem espaços/caracteres especiais\n",
    "print(tabela1['DESCRICAO'].str.contains(r'\\s').sum(), \"DESCRICAO com espaço na tabela 1\")\n",
    "print(tabela3['DESCRICAO'].str.contains(r'\\s').sum(), \"DESCRICAO com espaço na tabela 3\")"
   ]
  },
  {
   "cell_type": "code",
   "execution_count": 87,
   "id": "901f3018-fa51-4dfe-ac23-3e224b781d67",
   "metadata": {},
   "outputs": [],
   "source": [
    "#Mesclando tabela 1(Infomarket) com tabela 3 (Cadastro)\n",
    "merge1 = pd.merge(tabela1,tabela3, on='DESCRICAO', how='left')"
   ]
  },
  {
   "cell_type": "code",
   "execution_count": 83,
   "id": "61b2d8a9-f580-4d25-90f8-daa3f3656f58",
   "metadata": {},
   "outputs": [
    {
     "name": "stdout",
     "output_type": "stream",
     "text": [
      "         CONCORRENTE        CIDADE_x       ENCARTE         TIPO PAGINA  \\\n",
      "0  BRASIL ATACADISTA        BLUMENAU  ADEGA BRASIL  ABASTECEDOR      1   \n",
      "1  BRASIL ATACADISTA  FLORIANA3POLIS  ADEGA BRASIL  ABASTECEDOR      1   \n",
      "2  BRASIL ATACADISTA  FLORIANA3POLIS  ADEGA BRASIL  ABASTECEDOR      1   \n",
      "3  BRASIL ATACADISTA  FLORIANA3POLIS  ADEGA BRASIL  ABASTECEDOR      1   \n",
      "4  BRASIL ATACADISTA  FLORIANA3POLIS  ADEGA BRASIL  ABASTECEDOR      1   \n",
      "\n",
      "       INICIO         FIM                  PERIODO  \\\n",
      "0  02/05/2025  15/05/2025  02.05.2025 - 15.05.2025   \n",
      "1  02/05/2025  15/05/2025  02.05.2025 - 15.05.2025   \n",
      "2  02/05/2025  15/05/2025  02.05.2025 - 15.05.2025   \n",
      "3  02/05/2025  15/05/2025  02.05.2025 - 15.05.2025   \n",
      "4  02/05/2025  15/05/2025  02.05.2025 - 15.05.2025   \n",
      "\n",
      "                     DESCRICAO     COD_BARRAS  ... COD_PRODUTO COD_FAMILIA  \\\n",
      "0  ESPUMANTE SALTON BRUT 750ML  7896023082528  ...         NaN         NaN   \n",
      "1  ESPUMANTE SALTON BRUT 750ML  7896023082528  ...         NaN         NaN   \n",
      "2  ESPUMANTE SALTON BRUT 750ML  7896023082528  ...         NaN         NaN   \n",
      "3  ESPUMANTE SALTON BRUT 750ML  7896023082528  ...         NaN         NaN   \n",
      "4  ESPUMANTE SALTON BRUT 750ML  7896023082528  ...         NaN         NaN   \n",
      "\n",
      "  NIVEL1 NIVEL2 NIVEL3 NIVEL4 NIVEL5 NIVEL6 NIVEL7 PRODUTOS  \n",
      "0    NaN    NaN    NaN    NaN    NaN    NaN    NaN      NaN  \n",
      "1    NaN    NaN    NaN    NaN    NaN    NaN    NaN      NaN  \n",
      "2    NaN    NaN    NaN    NaN    NaN    NaN    NaN      NaN  \n",
      "3    NaN    NaN    NaN    NaN    NaN    NaN    NaN      NaN  \n",
      "4    NaN    NaN    NaN    NaN    NaN    NaN    NaN      NaN  \n",
      "\n",
      "[5 rows x 35 columns]\n"
     ]
    }
   ],
   "source": [
    "print(merge1.head())"
   ]
  },
  {
   "cell_type": "code",
   "execution_count": 85,
   "id": "9010acf4-956c-49a3-8bc5-63addb6f77b4",
   "metadata": {},
   "outputs": [
    {
     "name": "stdout",
     "output_type": "stream",
     "text": [
      "[13  3  2 14 12  5  4  6  8  1 11  7]\n",
      "[10  2  3  4  5  6  8  9 11]\n"
     ]
    }
   ],
   "source": [
    "#Verificando o comprimento dos códigos de barras\n",
    "print(tabela1['COD_BARRAS'].str.len().unique())\n",
    "print(tabela3['COD_BARRAS'].str.len().unique())"
   ]
  },
  {
   "cell_type": "code",
   "execution_count": 87,
   "id": "368d90cc-f053-45c5-8edc-c0b9863609d1",
   "metadata": {},
   "outputs": [],
   "source": [
    "# Padronizando para 13 dígitos (EAN-13)\n",
    "tabela1.loc[:,'COD_BARRAS'] = tabela1['COD_BARRAS'].astype(str).str.zfill(13)\n",
    "tabela3.loc[:,'COD_BARRAS'] = tabela3['COD_BARRAS'].astype(str).str.zfill(13)"
   ]
  },
  {
   "cell_type": "code",
   "execution_count": 89,
   "id": "3ecc9a75-a84e-4613-97b0-709b59edfff8",
   "metadata": {},
   "outputs": [],
   "source": [
    "# Remover códigos que têm mais de 13 dígitos (inconsistentes)\n",
    "tabela1 = tabela1[tabela1['COD_BARRAS'].str.len() == 13].copy()\n",
    "tabela3 = tabela3[tabela3['COD_BARRAS'].str.len() == 13].copy()"
   ]
  },
  {
   "cell_type": "code",
   "execution_count": 91,
   "id": "ee161863-5bc9-43c5-9c38-f3a86b125540",
   "metadata": {},
   "outputs": [
    {
     "name": "stdout",
     "output_type": "stream",
     "text": [
      "Códigos de Barras Únicos na Tabela 1: 1132\n",
      "Códigos de Barras Únicos na Tabela 3: 1758\n"
     ]
    }
   ],
   "source": [
    "print(\"Códigos de Barras Únicos na Tabela 1:\", tabela1['COD_BARRAS'].nunique())\n",
    "print(\"Códigos de Barras Únicos na Tabela 3:\", tabela3['COD_BARRAS'].nunique())"
   ]
  },
  {
   "cell_type": "code",
   "execution_count": 93,
   "id": "00f4b720-280c-448a-8eaa-77a93c4ff314",
   "metadata": {},
   "outputs": [
    {
     "name": "stdout",
     "output_type": "stream",
     "text": [
      "Comprimento dos Códigos de Barras na Tabela 1: [13]\n",
      "Comprimento dos Códigos de Barras na Tabela 3: [13]\n"
     ]
    }
   ],
   "source": [
    "# Verificar o comprimento dos códigos de barras\n",
    "print(\"Comprimento dos Códigos de Barras na Tabela 1:\", tabela1['COD_BARRAS'].str.len().unique())\n",
    "print(\"Comprimento dos Códigos de Barras na Tabela 3:\", tabela3['COD_BARRAS'].str.len().unique())"
   ]
  },
  {
   "cell_type": "code",
   "execution_count": 95,
   "id": "2088af35-e279-4efb-8981-53bd5a766464",
   "metadata": {},
   "outputs": [
    {
     "name": "stdout",
     "output_type": "stream",
     "text": [
      "Códigos de Barras Inválidos na Tabela 1:              CONCORRENTE           CIDADE        ENCARTE         TIPO PAGINA  \\\n",
      "12     BRASIL ATACADISTA         BLUMENAU   ADEGA BRASIL  ABASTECEDOR      1   \n",
      "13     BRASIL ATACADISTA   FLORIANA3POLIS   ADEGA BRASIL  ABASTECEDOR      1   \n",
      "14     BRASIL ATACADISTA   FLORIANA3POLIS   ADEGA BRASIL  ABASTECEDOR      1   \n",
      "15     BRASIL ATACADISTA   FLORIANA3POLIS   ADEGA BRASIL  ABASTECEDOR      1   \n",
      "16     BRASIL ATACADISTA   FLORIANA3POLIS   ADEGA BRASIL  ABASTECEDOR      1   \n",
      "...                  ...              ...            ...          ...    ...   \n",
      "34854       COOPER SUPER  JARAGUA! DO SUL  ESPECIAL MAES  ABASTECEDOR      3   \n",
      "34855       COOPER SUPER        JOINVILLE  ESPECIAL MAES  ABASTECEDOR      3   \n",
      "34856       COOPER SUPER          IBIRAMA  ESPECIAL MAES  ABASTECEDOR      3   \n",
      "34857       COOPER SUPER           RODEIO  ESPECIAL MAES  ABASTECEDOR      3   \n",
      "34858       COOPER SUPER           TIMBA3  ESPECIAL MAES  ABASTECEDOR      3   \n",
      "\n",
      "           INICIO         FIM                  PERIODO  \\\n",
      "12     02/05/2025  15/05/2025  02.05.2025 - 15.05.2025   \n",
      "13     02/05/2025  15/05/2025  02.05.2025 - 15.05.2025   \n",
      "14     02/05/2025  15/05/2025  02.05.2025 - 15.05.2025   \n",
      "15     02/05/2025  15/05/2025  02.05.2025 - 15.05.2025   \n",
      "16     02/05/2025  15/05/2025  02.05.2025 - 15.05.2025   \n",
      "...           ...         ...                      ...   \n",
      "34854  23/04/2025  13/05/2025  23.04.2025 - 13.05.2025   \n",
      "34855  23/04/2025  13/05/2025  23.04.2025 - 13.05.2025   \n",
      "34856  23/04/2025  13/05/2025  23.04.2025 - 13.05.2025   \n",
      "34857  23/04/2025  13/05/2025  23.04.2025 - 13.05.2025   \n",
      "34858  23/04/2025  13/05/2025  23.04.2025 - 13.05.2025   \n",
      "\n",
      "                                         DESCRICAO     COD_BARRAS  ...  \\\n",
      "12     VINHO URUGUAIO SOLAR DEL PASO RESERVA 750ML  0000000000NAN  ...   \n",
      "13     VINHO URUGUAIO SOLAR DEL PASO RESERVA 750ML  0000000000NAN  ...   \n",
      "14     VINHO URUGUAIO SOLAR DEL PASO RESERVA 750ML  0000000000NAN  ...   \n",
      "15     VINHO URUGUAIO SOLAR DEL PASO RESERVA 750ML  0000000000NAN  ...   \n",
      "16     VINHO URUGUAIO SOLAR DEL PASO RESERVA 750ML  0000000000NAN  ...   \n",
      "...                                            ...            ...  ...   \n",
      "34854      SECADOR PHILCO TITANIUM TRAVEL VERMELHO  0000000000NAN  ...   \n",
      "34855      SECADOR PHILCO TITANIUM TRAVEL VERMELHO  0000000000NAN  ...   \n",
      "34856      SECADOR PHILCO TITANIUM TRAVEL VERMELHO  0000000000NAN  ...   \n",
      "34857      SECADOR PHILCO TITANIUM TRAVEL VERMELHO  0000000000NAN  ...   \n",
      "34858      SECADOR PHILCO TITANIUM TRAVEL VERMELHO  0000000000NAN  ...   \n",
      "\n",
      "            DINAMICA TAMANHO UNIDADE CATEGORIA      SUPERCATEGORIA  DIVISAO  \\\n",
      "12     OFERTA_DE_POR   750.0      ML     VINHO  BEBIDAS ALCOALICAS  BEBIDAS   \n",
      "13     OFERTA_DE_POR   750.0      ML     VINHO  BEBIDAS ALCOALICAS  BEBIDAS   \n",
      "14     OFERTA_DE_POR   750.0      ML     VINHO  BEBIDAS ALCOALICAS  BEBIDAS   \n",
      "15     OFERTA_DE_POR   750.0      ML     VINHO  BEBIDAS ALCOALICAS  BEBIDAS   \n",
      "16     OFERTA_DE_POR   750.0      ML     VINHO  BEBIDAS ALCOALICAS  BEBIDAS   \n",
      "...              ...     ...     ...       ...                 ...      ...   \n",
      "34854  OFERTA_DE_POR     1.0     UND   SECADOR   ELETRODOMASTICOS     BAZAR   \n",
      "34855  OFERTA_DE_POR     1.0     UND   SECADOR   ELETRODOMASTICOS     BAZAR   \n",
      "34856  OFERTA_DE_POR     1.0     UND   SECADOR   ELETRODOMASTICOS     BAZAR   \n",
      "34857  OFERTA_DE_POR     1.0     UND   SECADOR   ELETRODOMASTICOS     BAZAR   \n",
      "34858  OFERTA_DE_POR     1.0     UND   SECADOR   ELETRODOMASTICOS     BAZAR   \n",
      "\n",
      "                MARCA FORNECEDOR  \\\n",
      "12     SOLAR DEL PASO     OUTROS   \n",
      "13     SOLAR DEL PASO     OUTROS   \n",
      "14     SOLAR DEL PASO     OUTROS   \n",
      "15     SOLAR DEL PASO     OUTROS   \n",
      "16     SOLAR DEL PASO     OUTROS   \n",
      "...               ...        ...   \n",
      "34854          PHILCO     PHILCO   \n",
      "34855          PHILCO     PHILCO   \n",
      "34856          PHILCO     PHILCO   \n",
      "34857          PHILCO     PHILCO   \n",
      "34858          PHILCO     PHILCO   \n",
      "\n",
      "                                                     URL         SEGMENTO  \n",
      "12     HTTPS://APP.INFOMARKETPESQUISA.COM/APP/LEAFLET...        ATACAREJO  \n",
      "13     HTTPS://APP.INFOMARKETPESQUISA.COM/APP/LEAFLET...        ATACAREJO  \n",
      "14     HTTPS://APP.INFOMARKETPESQUISA.COM/APP/LEAFLET...        ATACAREJO  \n",
      "15     HTTPS://APP.INFOMARKETPESQUISA.COM/APP/LEAFLET...        ATACAREJO  \n",
      "16     HTTPS://APP.INFOMARKETPESQUISA.COM/APP/LEAFLET...        ATACAREJO  \n",
      "...                                                  ...              ...  \n",
      "34854  HTTPS://APP.INFOMARKETPESQUISA.COM/APP/LEAFLET...  SUPER REGIONAIS  \n",
      "34855  HTTPS://APP.INFOMARKETPESQUISA.COM/APP/LEAFLET...  SUPER REGIONAIS  \n",
      "34856  HTTPS://APP.INFOMARKETPESQUISA.COM/APP/LEAFLET...  SUPER REGIONAIS  \n",
      "34857  HTTPS://APP.INFOMARKETPESQUISA.COM/APP/LEAFLET...  SUPER REGIONAIS  \n",
      "34858  HTTPS://APP.INFOMARKETPESQUISA.COM/APP/LEAFLET...  SUPER REGIONAIS  \n",
      "\n",
      "[3982 rows x 22 columns]\n",
      "Códigos de Barras Inválidos na Tabela 3:          ï»¿EMPRESA      NEGOCIO              CIDADE  COD_PRODUTO  \\\n",
      "45154            16     1.VAREJO  Balneario Camboriu        70444   \n",
      "45155            63     1.VAREJO  Balneario Picarras        70444   \n",
      "45156            13     1.VAREJO             Biguacu        70444   \n",
      "45157            31     1.VAREJO           Bombinhas        70444   \n",
      "45158             3     1.VAREJO            Camboriu        70444   \n",
      "...             ...          ...                 ...          ...   \n",
      "1048569          57  2.ATACAREJO            Imbituba        74488   \n",
      "1048570          60  2.ATACAREJO            Imbituba        74488   \n",
      "1048571          61  2.ATACAREJO            Imbituba        74488   \n",
      "1048572          49  2.ATACAREJO             Indaial        74488   \n",
      "1048573          46  2.ATACAREJO              Itajai        74488   \n",
      "\n",
      "            COD_BARRAS  COD_FAMILIA     NIVEL1        NIVEL2  \\\n",
      "45154    0000000193E11        63718  MERCEARIA  SECA SALGADA   \n",
      "45155    0000000193E11        63718  MERCEARIA  SECA SALGADA   \n",
      "45156    0000000193E11        63718  MERCEARIA  SECA SALGADA   \n",
      "45157    0000000193E11        63718  MERCEARIA  SECA SALGADA   \n",
      "45158    0000000193E11        63718  MERCEARIA  SECA SALGADA   \n",
      "...                ...          ...        ...           ...   \n",
      "1048569  0000000179E13        71854  MERCEARIA     SECA DOCE   \n",
      "1048570  0000000179E13        71854  MERCEARIA     SECA DOCE   \n",
      "1048571  0000000179E13        71854  MERCEARIA     SECA DOCE   \n",
      "1048572  0000000179E13        71854  MERCEARIA     SECA DOCE   \n",
      "1048573  0000000179E13        71854  MERCEARIA     SECA DOCE   \n",
      "\n",
      "                        NIVEL3             NIVEL4              NIVEL5  \\\n",
      "45154    MOLHOS COMPLEMENTARES  BARBECUE - LANCHE            BARBECUE   \n",
      "45155    MOLHOS COMPLEMENTARES  BARBECUE - LANCHE            BARBECUE   \n",
      "45156    MOLHOS COMPLEMENTARES  BARBECUE - LANCHE            BARBECUE   \n",
      "45157    MOLHOS COMPLEMENTARES  BARBECUE - LANCHE            BARBECUE   \n",
      "45158    MOLHOS COMPLEMENTARES  BARBECUE - LANCHE            BARBECUE   \n",
      "...                        ...                ...                 ...   \n",
      "1048569     BISCOITOS TORRADAS      BISCOITO DOCE  BOLACHAS E PAO MEL   \n",
      "1048570     BISCOITOS TORRADAS      BISCOITO DOCE  BOLACHAS E PAO MEL   \n",
      "1048571     BISCOITOS TORRADAS      BISCOITO DOCE  BOLACHAS E PAO MEL   \n",
      "1048572     BISCOITOS TORRADAS      BISCOITO DOCE  BOLACHAS E PAO MEL   \n",
      "1048573     BISCOITOS TORRADAS      BISCOITO DOCE  BOLACHAS E PAO MEL   \n",
      "\n",
      "                      NIVEL6    NIVEL7  PRODUTOS  \n",
      "45154               BARBECUE   SQUEEZE         1  \n",
      "45155               BARBECUE   SQUEEZE         1  \n",
      "45156               BARBECUE   SQUEEZE         1  \n",
      "45157               BARBECUE   SQUEEZE         1  \n",
      "45158               BARBECUE   SQUEEZE         1  \n",
      "...                      ...       ...       ...  \n",
      "1048569  COBERTURA CHOCOLATE  FAMILIAR         1  \n",
      "1048570  COBERTURA CHOCOLATE  FAMILIAR         1  \n",
      "1048571  COBERTURA CHOCOLATE  FAMILIAR         1  \n",
      "1048572  COBERTURA CHOCOLATE  FAMILIAR         1  \n",
      "1048573  COBERTURA CHOCOLATE  FAMILIAR         1  \n",
      "\n",
      "[1003420 rows x 14 columns]\n"
     ]
    }
   ],
   "source": [
    "# Verificar se há apenas números nos códigos de barras\n",
    "print(\"Códigos de Barras Inválidos na Tabela 1:\", tabela1[~tabela1['COD_BARRAS'].str.isnumeric()])\n",
    "print(\"Códigos de Barras Inválidos na Tabela 3:\", tabela3[~tabela3['COD_BARRAS'].str.isnumeric()])"
   ]
  },
  {
   "cell_type": "code",
   "execution_count": 97,
   "id": "34856725-b0d4-4485-afea-dbdff35b0f88",
   "metadata": {},
   "outputs": [],
   "source": [
    "#Manter só codigos totalmente numericos e com 13 digitos\n",
    "tabela1 = tabela1[tabela1['COD_BARRAS'].str.isnumeric() & (tabela1['COD_BARRAS'].str.len() == 13)]\n",
    "tabela3 = tabela3[tabela3['COD_BARRAS'].str.isnumeric() & (tabela3['COD_BARRAS'].str.len() == 13)]"
   ]
  },
  {
   "cell_type": "code",
   "execution_count": 99,
   "id": "66c20e7e-fdfd-4969-a60e-0a253c8e10d1",
   "metadata": {},
   "outputs": [
    {
     "name": "stdout",
     "output_type": "stream",
     "text": [
      "Códigos de Barras únicos na Tabela 1: 1131\n"
     ]
    }
   ],
   "source": [
    "#Verificando novamente o n° de cod. barras válidos\n",
    "print(\"Códigos de Barras únicos na Tabela 1:\", tabela1['COD_BARRAS'].nunique())"
   ]
  },
  {
   "cell_type": "code",
   "execution_count": 101,
   "id": "efd408e3-4ea3-44e2-b153-c41c2ca1e6cc",
   "metadata": {},
   "outputs": [
    {
     "name": "stdout",
     "output_type": "stream",
     "text": [
      "Códigos de Barras únicos na Tabela 3: 1620\n"
     ]
    }
   ],
   "source": [
    "print(\"Códigos de Barras únicos na Tabela 3:\", tabela3['COD_BARRAS'].nunique())"
   ]
  },
  {
   "cell_type": "code",
   "execution_count": 103,
   "id": "f66a0289-3cfa-46f1-a540-cc95fb8224bb",
   "metadata": {},
   "outputs": [
    {
     "name": "stdout",
     "output_type": "stream",
     "text": [
      "Total de Códigos de Barras em Comum: 18\n"
     ]
    }
   ],
   "source": [
    "# Contar a interseção dos códigos de barras\n",
    "codigos_comuns = set(tabela1['COD_BARRAS']).intersection(set(tabela3['COD_BARRAS']))\n",
    "print(\"Total de Códigos de Barras em Comum:\", len(codigos_comuns))\n"
   ]
  },
  {
   "cell_type": "code",
   "execution_count": 105,
   "id": "b092fed8-5016-42cb-9cfe-b6bf82ca8d47",
   "metadata": {},
   "outputs": [
    {
     "name": "stdout",
     "output_type": "stream",
     "text": [
      "Códigos na Tabela 1 que não estão na Tabela 3: 1113\n",
      "Códigos na Tabela 3 que não estão na Tabela 1: 1602\n"
     ]
    }
   ],
   "source": [
    "# Comparar os códigos de barras entre as duas tabelas\n",
    "codigos_tabela1 = set(tabela1['COD_BARRAS'])\n",
    "codigos_tabela3 = set(tabela3['COD_BARRAS'])\n",
    "\n",
    "# Códigos que estão na Tabela 1 mas não na Tabela 3\n",
    "nao_encontrados_1 = codigos_tabela1 - codigos_tabela3\n",
    "nao_encontrados_3 = codigos_tabela3 - codigos_tabela1\n",
    "\n",
    "print(\"Códigos na Tabela 1 que não estão na Tabela 3:\", len(nao_encontrados_1))\n",
    "print(\"Códigos na Tabela 3 que não estão na Tabela 1:\", len(nao_encontrados_3))\n"
   ]
  },
  {
   "cell_type": "code",
   "execution_count": 107,
   "id": "b569842d-da3e-4861-8460-5f102f076da0",
   "metadata": {},
   "outputs": [],
   "source": [
    "#Mesclando tabela 1(Infomarket) com tabela 3 (Cadastro)\n",
    "merge1 = pd.merge(tabela1,tabela3, on='COD_BARRAS', how='left')"
   ]
  },
  {
   "cell_type": "code",
   "execution_count": 111,
   "id": "8d35f99a-3e3c-4771-8efd-4f9b20929d4c",
   "metadata": {},
   "outputs": [
    {
     "name": "stdout",
     "output_type": "stream",
     "text": [
      "<class 'pandas.core.frame.DataFrame'>\n",
      "RangeIndex: 43338 entries, 0 to 43337\n",
      "Data columns (total 35 columns):\n",
      " #   Column          Non-Null Count  Dtype  \n",
      "---  ------          --------------  -----  \n",
      " 0   CONCORRENTE     43338 non-null  object \n",
      " 1   CIDADE_x        43338 non-null  object \n",
      " 2   ENCARTE         43338 non-null  object \n",
      " 3   TIPO            43338 non-null  object \n",
      " 4   PAGINA          43338 non-null  object \n",
      " 5   INICIO          43338 non-null  object \n",
      " 6   FIM             43338 non-null  object \n",
      " 7   PERIODO         43338 non-null  object \n",
      " 8   DESCRICAO       43338 non-null  object \n",
      " 9   COD_BARRAS      43338 non-null  object \n",
      " 10  PRECO           43338 non-null  object \n",
      " 11  QTD_MINIMA      43338 non-null  object \n",
      " 12  DINAMICA        43338 non-null  object \n",
      " 13  TAMANHO         43338 non-null  object \n",
      " 14  UNIDADE         43338 non-null  object \n",
      " 15  CATEGORIA       43338 non-null  object \n",
      " 16  SUPERCATEGORIA  43338 non-null  object \n",
      " 17  DIVISAO         43338 non-null  object \n",
      " 18  MARCA           43338 non-null  object \n",
      " 19  FORNECEDOR      43338 non-null  object \n",
      " 20  URL             43338 non-null  object \n",
      " 21  SEGMENTO        43338 non-null  object \n",
      " 22  ï»¿EMPRESA      12738 non-null  float64\n",
      " 23  NEGOCIO         12738 non-null  object \n",
      " 24  CIDADE_y        12738 non-null  object \n",
      " 25  COD_PRODUTO     12738 non-null  float64\n",
      " 26  COD_FAMILIA     12738 non-null  float64\n",
      " 27  NIVEL1          12738 non-null  object \n",
      " 28  NIVEL2          12738 non-null  object \n",
      " 29  NIVEL3          12738 non-null  object \n",
      " 30  NIVEL4          12738 non-null  object \n",
      " 31  NIVEL5          12738 non-null  object \n",
      " 32  NIVEL6          12738 non-null  object \n",
      " 33  NIVEL7          12738 non-null  object \n",
      " 34  PRODUTOS        12738 non-null  float64\n",
      "dtypes: float64(4), object(31)\n",
      "memory usage: 11.6+ MB\n",
      "None\n"
     ]
    }
   ],
   "source": [
    "\n",
    "print(merge1.info())"
   ]
  },
  {
   "cell_type": "code",
   "execution_count": null,
   "id": "dd551e93-b415-461d-bd64-fae0c6dd16d3",
   "metadata": {},
   "outputs": [],
   "source": [
    "#--------- teste por similaridade de texto"
   ]
  },
  {
   "cell_type": "code",
   "execution_count": 115,
   "id": "68424019-942a-4f5b-865b-d45d9a100a72",
   "metadata": {},
   "outputs": [],
   "source": [
    "import pandas as pd\n",
    "from difflib import SequenceMatcher"
   ]
  },
  {
   "cell_type": "code",
   "execution_count": 117,
   "id": "e2583e78-af71-4fcd-954d-1bb0bb761019",
   "metadata": {},
   "outputs": [],
   "source": [
    "#Calculando similaridade entre as descrições dos produtos das duas tabelas\n",
    "# Função para calcular a similaridade entre duas strings\n",
    "def similaridade(texto1, texto2):\n",
    "    return SequenceMatcher(None, texto1, texto2).ratio()"
   ]
  },
  {
   "cell_type": "code",
   "execution_count": 119,
   "id": "a68efc53-48a5-4ba0-9cc0-98ffc94c62c5",
   "metadata": {},
   "outputs": [],
   "source": [
    "#Definindo limite de similaridade \n",
    "limite_similaridade = 0.8"
   ]
  },
  {
   "cell_type": "code",
   "execution_count": 121,
   "id": "ab76441d-4281-4eca-b99a-63ed48ea5c59",
   "metadata": {},
   "outputs": [],
   "source": [
    "# Listas para armazenar correspondencias\n",
    "correspondencias = []"
   ]
  },
  {
   "cell_type": "code",
   "execution_count": 131,
   "id": "482d0d04-b8ed-4d48-b374-c8251bc4f3f4",
   "metadata": {},
   "outputs": [
    {
     "name": "stdout",
     "output_type": "stream",
     "text": [
      "   ï»¿EMPRESA   NEGOCIO              CIDADE  COD_PRODUTO     COD_BARRAS  \\\n",
      "0          16  1.VAREJO  Balneario Camboriu        76250  0008030201200   \n",
      "1          63  1.VAREJO  Balneario Picarras        76250  0008030201200   \n",
      "2          13  1.VAREJO             Biguacu        76250  0008030201200   \n",
      "3          31  1.VAREJO           Bombinhas        76250  0008030201200   \n",
      "4           8  1.VAREJO            Camboriu        76250  0008030201200   \n",
      "\n",
      "   COD_FAMILIA      NIVEL1 NIVEL2     NIVEL3   NIVEL4   NIVEL5   NIVEL6  \\\n",
      "0        40684  PERECIVEIS    PAS  CONGELADO  SORVETE  SORVETE  PREMIUM   \n",
      "1        40684  PERECIVEIS    PAS  CONGELADO  SORVETE  SORVETE  PREMIUM   \n",
      "2        40684  PERECIVEIS    PAS  CONGELADO  SORVETE  SORVETE  PREMIUM   \n",
      "3        40684  PERECIVEIS    PAS  CONGELADO  SORVETE  SORVETE  PREMIUM   \n",
      "4        40684  PERECIVEIS    PAS  CONGELADO  SORVETE  SORVETE  PREMIUM   \n",
      "\n",
      "    NIVEL7  PRODUTOS  \n",
      "0  PREMIUM         1  \n",
      "1  PREMIUM         1  \n",
      "2  PREMIUM         1  \n",
      "3  PREMIUM         1  \n",
      "4  PREMIUM         1  \n"
     ]
    }
   ],
   "source": [
    "print(tabela3.head(5))"
   ]
  },
  {
   "cell_type": "code",
   "execution_count": 125,
   "id": "ee867428-06d7-4a02-8787-ea29c4303a91",
   "metadata": {},
   "outputs": [
    {
     "ename": "KeyError",
     "evalue": "'DESCRICAO'",
     "output_type": "error",
     "traceback": [
      "\u001b[1;31m---------------------------------------------------------------------------\u001b[0m",
      "\u001b[1;31mKeyError\u001b[0m                                  Traceback (most recent call last)",
      "File \u001b[1;32m~\\AppData\\Local\\anaconda3\\Lib\\site-packages\\pandas\\core\\indexes\\base.py:3805\u001b[0m, in \u001b[0;36mIndex.get_loc\u001b[1;34m(self, key)\u001b[0m\n\u001b[0;32m   3804\u001b[0m \u001b[38;5;28;01mtry\u001b[39;00m:\n\u001b[1;32m-> 3805\u001b[0m     \u001b[38;5;28;01mreturn\u001b[39;00m \u001b[38;5;28mself\u001b[39m\u001b[38;5;241m.\u001b[39m_engine\u001b[38;5;241m.\u001b[39mget_loc(casted_key)\n\u001b[0;32m   3806\u001b[0m \u001b[38;5;28;01mexcept\u001b[39;00m \u001b[38;5;167;01mKeyError\u001b[39;00m \u001b[38;5;28;01mas\u001b[39;00m err:\n",
      "File \u001b[1;32mindex.pyx:167\u001b[0m, in \u001b[0;36mpandas._libs.index.IndexEngine.get_loc\u001b[1;34m()\u001b[0m\n",
      "File \u001b[1;32mindex.pyx:196\u001b[0m, in \u001b[0;36mpandas._libs.index.IndexEngine.get_loc\u001b[1;34m()\u001b[0m\n",
      "File \u001b[1;32mpandas\\\\_libs\\\\hashtable_class_helper.pxi:7081\u001b[0m, in \u001b[0;36mpandas._libs.hashtable.PyObjectHashTable.get_item\u001b[1;34m()\u001b[0m\n",
      "File \u001b[1;32mpandas\\\\_libs\\\\hashtable_class_helper.pxi:7089\u001b[0m, in \u001b[0;36mpandas._libs.hashtable.PyObjectHashTable.get_item\u001b[1;34m()\u001b[0m\n",
      "\u001b[1;31mKeyError\u001b[0m: 'DESCRICAO'",
      "\nThe above exception was the direct cause of the following exception:\n",
      "\u001b[1;31mKeyError\u001b[0m                                  Traceback (most recent call last)",
      "Cell \u001b[1;32mIn[125], line 5\u001b[0m\n\u001b[0;32m      3\u001b[0m descricao1 \u001b[38;5;241m=\u001b[39m \u001b[38;5;28mstr\u001b[39m(row1[\u001b[38;5;124m'\u001b[39m\u001b[38;5;124mDESCRICAO\u001b[39m\u001b[38;5;124m'\u001b[39m])\u001b[38;5;241m.\u001b[39mlower()\n\u001b[0;32m      4\u001b[0m \u001b[38;5;28;01mfor\u001b[39;00m j, row3 \u001b[38;5;129;01min\u001b[39;00m tabela3\u001b[38;5;241m.\u001b[39miterrows():\n\u001b[1;32m----> 5\u001b[0m     descricao3 \u001b[38;5;241m=\u001b[39m \u001b[38;5;28mstr\u001b[39m(row3[\u001b[38;5;124m'\u001b[39m\u001b[38;5;124mDESCRICAO\u001b[39m\u001b[38;5;124m'\u001b[39m])\u001b[38;5;241m.\u001b[39mlower()\n\u001b[0;32m      6\u001b[0m     \u001b[38;5;28;01mif\u001b[39;00m similaridade(descricao1, descricao3) \u001b[38;5;241m>\u001b[39m\u001b[38;5;241m=\u001b[39m limite_similaridade:\n\u001b[0;32m      7\u001b[0m         correspondencias\u001b[38;5;241m.\u001b[39mappend({\n\u001b[0;32m      8\u001b[0m             \u001b[38;5;124m'\u001b[39m\u001b[38;5;124mDESCRICAO_TABELA1\u001b[39m\u001b[38;5;124m'\u001b[39m: descricao1,\n\u001b[0;32m      9\u001b[0m             \u001b[38;5;124m'\u001b[39m\u001b[38;5;124mDESCRICAO_TABELA3\u001b[39m\u001b[38;5;124m'\u001b[39m: descricao3,\n\u001b[1;32m   (...)\u001b[0m\n\u001b[0;32m     12\u001b[0m             \u001b[38;5;124m'\u001b[39m\u001b[38;5;124mINDEX_TABELA3\u001b[39m\u001b[38;5;124m'\u001b[39m: j\n\u001b[0;32m     13\u001b[0m         })\n",
      "File \u001b[1;32m~\\AppData\\Local\\anaconda3\\Lib\\site-packages\\pandas\\core\\series.py:1121\u001b[0m, in \u001b[0;36mSeries.__getitem__\u001b[1;34m(self, key)\u001b[0m\n\u001b[0;32m   1118\u001b[0m     \u001b[38;5;28;01mreturn\u001b[39;00m \u001b[38;5;28mself\u001b[39m\u001b[38;5;241m.\u001b[39m_values[key]\n\u001b[0;32m   1120\u001b[0m \u001b[38;5;28;01melif\u001b[39;00m key_is_scalar:\n\u001b[1;32m-> 1121\u001b[0m     \u001b[38;5;28;01mreturn\u001b[39;00m \u001b[38;5;28mself\u001b[39m\u001b[38;5;241m.\u001b[39m_get_value(key)\n\u001b[0;32m   1123\u001b[0m \u001b[38;5;66;03m# Convert generator to list before going through hashable part\u001b[39;00m\n\u001b[0;32m   1124\u001b[0m \u001b[38;5;66;03m# (We will iterate through the generator there to check for slices)\u001b[39;00m\n\u001b[0;32m   1125\u001b[0m \u001b[38;5;28;01mif\u001b[39;00m is_iterator(key):\n",
      "File \u001b[1;32m~\\AppData\\Local\\anaconda3\\Lib\\site-packages\\pandas\\core\\series.py:1237\u001b[0m, in \u001b[0;36mSeries._get_value\u001b[1;34m(self, label, takeable)\u001b[0m\n\u001b[0;32m   1234\u001b[0m     \u001b[38;5;28;01mreturn\u001b[39;00m \u001b[38;5;28mself\u001b[39m\u001b[38;5;241m.\u001b[39m_values[label]\n\u001b[0;32m   1236\u001b[0m \u001b[38;5;66;03m# Similar to Index.get_value, but we do not fall back to positional\u001b[39;00m\n\u001b[1;32m-> 1237\u001b[0m loc \u001b[38;5;241m=\u001b[39m \u001b[38;5;28mself\u001b[39m\u001b[38;5;241m.\u001b[39mindex\u001b[38;5;241m.\u001b[39mget_loc(label)\n\u001b[0;32m   1239\u001b[0m \u001b[38;5;28;01mif\u001b[39;00m is_integer(loc):\n\u001b[0;32m   1240\u001b[0m     \u001b[38;5;28;01mreturn\u001b[39;00m \u001b[38;5;28mself\u001b[39m\u001b[38;5;241m.\u001b[39m_values[loc]\n",
      "File \u001b[1;32m~\\AppData\\Local\\anaconda3\\Lib\\site-packages\\pandas\\core\\indexes\\base.py:3812\u001b[0m, in \u001b[0;36mIndex.get_loc\u001b[1;34m(self, key)\u001b[0m\n\u001b[0;32m   3807\u001b[0m     \u001b[38;5;28;01mif\u001b[39;00m \u001b[38;5;28misinstance\u001b[39m(casted_key, \u001b[38;5;28mslice\u001b[39m) \u001b[38;5;129;01mor\u001b[39;00m (\n\u001b[0;32m   3808\u001b[0m         \u001b[38;5;28misinstance\u001b[39m(casted_key, abc\u001b[38;5;241m.\u001b[39mIterable)\n\u001b[0;32m   3809\u001b[0m         \u001b[38;5;129;01mand\u001b[39;00m \u001b[38;5;28many\u001b[39m(\u001b[38;5;28misinstance\u001b[39m(x, \u001b[38;5;28mslice\u001b[39m) \u001b[38;5;28;01mfor\u001b[39;00m x \u001b[38;5;129;01min\u001b[39;00m casted_key)\n\u001b[0;32m   3810\u001b[0m     ):\n\u001b[0;32m   3811\u001b[0m         \u001b[38;5;28;01mraise\u001b[39;00m InvalidIndexError(key)\n\u001b[1;32m-> 3812\u001b[0m     \u001b[38;5;28;01mraise\u001b[39;00m \u001b[38;5;167;01mKeyError\u001b[39;00m(key) \u001b[38;5;28;01mfrom\u001b[39;00m \u001b[38;5;21;01merr\u001b[39;00m\n\u001b[0;32m   3813\u001b[0m \u001b[38;5;28;01mexcept\u001b[39;00m \u001b[38;5;167;01mTypeError\u001b[39;00m:\n\u001b[0;32m   3814\u001b[0m     \u001b[38;5;66;03m# If we have a listlike key, _check_indexing_error will raise\u001b[39;00m\n\u001b[0;32m   3815\u001b[0m     \u001b[38;5;66;03m#  InvalidIndexError. Otherwise we fall through and re-raise\u001b[39;00m\n\u001b[0;32m   3816\u001b[0m     \u001b[38;5;66;03m#  the TypeError.\u001b[39;00m\n\u001b[0;32m   3817\u001b[0m     \u001b[38;5;28mself\u001b[39m\u001b[38;5;241m.\u001b[39m_check_indexing_error(key)\n",
      "\u001b[1;31mKeyError\u001b[0m: 'DESCRICAO'"
     ]
    }
   ],
   "source": [
    "# Realizar a comparação por similaridade de descrição\n",
    "for i, row1 in tabela1.iterrows():\n",
    "    descricao1 = str(row1['DESCRICAO']).lower()\n",
    "    for j, row3 in tabela3.iterrows():\n",
    "        descricao3 = str(row3['DESCRICAO']).lower()\n",
    "        if similaridade(descricao1, descricao3) >= limite_similaridade:\n",
    "            correspondencias.append({\n",
    "                'DESCRICAO_TABELA1': descricao1,\n",
    "                'DESCRICAO_TABELA3': descricao3,\n",
    "                'SIMILARIDADE': similaridade(descricao1, descricao3),\n",
    "                'INDEX_TABELA1': i,\n",
    "                'INDEX_TABELA3': j\n",
    "            })"
   ]
  }
 ],
 "metadata": {
  "kernelspec": {
   "display_name": "Python 3 (ipykernel)",
   "language": "python",
   "name": "python3"
  },
  "language_info": {
   "codemirror_mode": {
    "name": "ipython",
    "version": 3
   },
   "file_extension": ".py",
   "mimetype": "text/x-python",
   "name": "python",
   "nbconvert_exporter": "python",
   "pygments_lexer": "ipython3",
   "version": "3.12.4"
  }
 },
 "nbformat": 4,
 "nbformat_minor": 5
}
